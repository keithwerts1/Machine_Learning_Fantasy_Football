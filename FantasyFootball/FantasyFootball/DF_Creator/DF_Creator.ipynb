{
 "cells": [
  {
   "cell_type": "markdown",
   "metadata": {},
   "source": [
    "### Import Functions"
   ]
  },
  {
   "cell_type": "code",
   "execution_count": 9,
   "metadata": {},
   "outputs": [
    {
     "name": "stdout",
     "output_type": "stream",
     "text": [
      "Path Already Exists\n",
      "Import Complete\n"
     ]
    }
   ],
   "source": [
    "import pandas as pd\n",
    "import numpy as np\n",
    "import csv\n",
    "import glob\n",
    "import os\n",
    "\n",
    "def Grouper(df,column,criteria):\n",
    "    column = column\n",
    "    grouped = df.groupby(df[column])\n",
    "    g = grouped.get_group(criteria)\n",
    "    return g\n",
    "\n",
    "currentweek = 14\n",
    "path = r'data\\2020\\MasterDF\\\\'+str(currentweek)\n",
    "try:\n",
    "    os.mkdir(path)\n",
    "except:\n",
    "    print(\"Path Already Exists\")\n",
    "\n",
    "print(\"Import Complete\")"
   ]
  },
  {
   "cell_type": "markdown",
   "metadata": {},
   "source": [
    "### Modules for Loading and Parsing Data"
   ]
  },
  {
   "cell_type": "code",
   "execution_count": 10,
   "metadata": {},
   "outputs": [
    {
     "name": "stdout",
     "output_type": "stream",
     "text": [
      "Modules Loaded\n"
     ]
    }
   ],
   "source": [
    "def LoadDF(file):\n",
    "    with open(file) as f:\n",
    "        reader = csv.reader(f)\n",
    "        data = [row for row in reader]\n",
    "        \n",
    "    headers = data.pop(0)\n",
    "    DF = pd.DataFrame(data,columns=headers)\n",
    "    return DF\n",
    "\n",
    "def ConvertHeaders(headers):\n",
    "    newheaders = []\n",
    "    newheaders.append(headers[0])\n",
    "    labels = ['Pass','Rec','Rush']\n",
    "    x = 1\n",
    "    y = 0\n",
    "    z = 1\n",
    "    while x < len(headers):\n",
    "        newlabel = str(headers[x]+labels[y])\n",
    "        if newlabel == 'YdsPass':\n",
    "            newlabel += str(z)\n",
    "            z += 1\n",
    "        newheaders.append(newlabel)\n",
    "        if headers[x] == '1D':\n",
    "            y += 1\n",
    "        x += 1\n",
    "    return newheaders\n",
    "\n",
    "def LoadPerfPlayerData():\n",
    "    masterlist = []\n",
    "    for file in glob.glob(r'data\\2020\\performance\\OffensePlayer\\*'):\n",
    "        w = file.split(\"\\\\\")[-1].split(\".\")[0].replace(\"OffensePlayerWeek\",\"\")\n",
    "        df = pd.read_excel(file)\n",
    "        headers = df.iloc[0].to_list()\n",
    "        df = df.iloc[1:]\n",
    "        df.columns = ConvertHeaders(headers)\n",
    "        df['Week'] = int(w)\n",
    "        df['SkYdsPass'] = df['YdsPass2']\n",
    "        df.drop(['YdsPass2'],axis=1)\n",
    "        masterlist.append(df)\n",
    "    perfdata = pd.concat(masterlist)\n",
    "    return perfdata\n",
    "\n",
    "def LoadPerfTeamData(l,a):\n",
    "    masterlist = []\n",
    "    for file in glob.glob(r'data\\2020\\performance\\\\'+l+'\\*'):\n",
    "        w = file.split(\"\\\\\")[-1].split(\".\")[0].replace(str(l+\"Week\"),\"\")\n",
    "        df = pd.read_excel(file,header=None)\n",
    "        headers = [str(h) + a for h in df.iloc[1].to_list()]\n",
    "        newheaders = []\n",
    "        x = 0\n",
    "        for h in headers:\n",
    "            if h not in newheaders:\n",
    "                newheaders.append(h)\n",
    "            else:\n",
    "                x += 1\n",
    "                newheaders.append(h+str(x))\n",
    "        df = df.iloc[2:]\n",
    "        df.columns = newheaders\n",
    "        df['Week'] = int(w)\n",
    "        masterlist.append(df)\n",
    "    perfdata = pd.concat(masterlist)\n",
    "    return perfdata\n",
    "\n",
    "def CreatePerfTeamData():\n",
    "    PerfOffenseData = LoadPerfTeamData(\"Offense\",\"OFNS\")\n",
    "    PerfDefenseData = LoadPerfTeamData(\"Defense\",\"DFNS\")\n",
    "    PerfAllScoreData = LoadPerfTeamData(\"AllScore\",\"ALLSCR\")\n",
    "    PerfDSTScoreData = LoadPerfTeamData(\"DSTScore\",\"DSTSCR\")\n",
    "    PerfTeamData = PerfOffenseData.merge(PerfDefenseData, left_on=['TmOFNS','Week'],right_on=['TmDFNS','Week'],how='inner')\n",
    "    PerfTeamData = PerfTeamData.merge(PerfAllScoreData, left_on=['TmOFNS','Week'],right_on=['TmALLSCR','Week'],how='inner')\n",
    "    PerfTeamData = PerfTeamData.merge(PerfDSTScoreData, left_on=['TmOFNS','Week'],right_on=['TmDSTSCR','Week'],how='inner')\n",
    "    PerfTeamData = PerfTeamData.fillna(0)\n",
    "    PerfTeamData['SftyALLSCR'] = PerfTeamData['SftyALLSCR'].astype(int)\n",
    "    PerfTeamData['PtsFor'] = PerfTeamData['TDALLSCR'] * 6 + PerfTeamData['XPMALLSCR'] + PerfTeamData['FGMALLSCR'] * 3 + PerfTeamData['2PMALLSCR'] * 2\n",
    "    PerfPtsDf = PerfTeamData[['OppALLSCR','PtsFor','Week']]\n",
    "    PerfPtsDf['PtsAgainst'] = PerfPtsDf['PtsFor']\n",
    "    PerfPtsDf['Opponent'] = PerfPtsDf['OppALLSCR']\n",
    "    PerfPtsDf = PerfPtsDf.drop(['PtsFor','OppALLSCR'], axis=1)\n",
    "    PerfTeamData = PerfTeamData.merge(PerfPtsDf, left_on=['TmOFNS','Week'],right_on=['Opponent','Week'],how='inner')\n",
    "    PerfTeamData['Opponent'] = PerfTeamData['OppALLSCR']\n",
    "    \n",
    "    return PerfTeamData\n",
    "\n",
    "print(\"Modules Loaded\")"
   ]
  },
  {
   "cell_type": "markdown",
   "metadata": {},
   "source": [
    "### Load Data"
   ]
  },
  {
   "cell_type": "code",
   "execution_count": 11,
   "metadata": {},
   "outputs": [
    {
     "name": "stdout",
     "output_type": "stream",
     "text": [
      "(873, 6)\n",
      "(32, 8)\n",
      "(5639, 11)\n",
      "(414, 11)\n",
      "(4161, 25)\n",
      "(406, 78)\n"
     ]
    },
    {
     "name": "stderr",
     "output_type": "stream",
     "text": [
      "C:\\Users\\KWRS\\Anaconda3\\lib\\site-packages\\ipykernel_launcher.py:76: SettingWithCopyWarning: \n",
      "A value is trying to be set on a copy of a slice from a DataFrame.\n",
      "Try using .loc[row_indexer,col_indexer] = value instead\n",
      "\n",
      "See the caveats in the documentation: https://pandas.pydata.org/pandas-docs/stable/user_guide/indexing.html#returning-a-view-versus-a-copy\n",
      "C:\\Users\\KWRS\\Anaconda3\\lib\\site-packages\\ipykernel_launcher.py:77: SettingWithCopyWarning: \n",
      "A value is trying to be set on a copy of a slice from a DataFrame.\n",
      "Try using .loc[row_indexer,col_indexer] = value instead\n",
      "\n",
      "See the caveats in the documentation: https://pandas.pydata.org/pandas-docs/stable/user_guide/indexing.html#returning-a-view-versus-a-copy\n"
     ]
    }
   ],
   "source": [
    "PlayerMatch = LoadDF('data/2020/Match/PlayerMatch.csv')\n",
    "print(PlayerMatch.shape)\n",
    "TeamMatch = LoadDF('data/2020/Match/TeamMatch.csv')\n",
    "print(TeamMatch.shape)\n",
    "DKPoints = LoadDF('data/2020/Performance/DKPoints.csv')\n",
    "print(DKPoints.shape)\n",
    "DKPointsDefense = Grouper(DKPoints,'Pos','Def')\n",
    "print(DKPointsDefense.shape)\n",
    "PerfPlayerData = LoadPerfPlayerData()\n",
    "print(PerfPlayerData.shape)\n",
    "PerfTeamData = CreatePerfTeamData()\n",
    "print(PerfTeamData.shape)"
   ]
  },
  {
   "cell_type": "markdown",
   "metadata": {},
   "source": [
    "### Performance Data"
   ]
  },
  {
   "cell_type": "code",
   "execution_count": null,
   "metadata": {},
   "outputs": [],
   "source": []
  },
  {
   "cell_type": "code",
   "execution_count": 12,
   "metadata": {},
   "outputs": [
    {
     "name": "stdout",
     "output_type": "stream",
     "text": [
      "CALCAVG Loaded\n"
     ]
    }
   ],
   "source": [
    "def CreateAverageColumns(df1,df,index,avgcols,label):\n",
    "    maxweek = int(df['Week'].max())\n",
    "    NewCALCAVGColumns = index\n",
    "    for col in avgcols:\n",
    "        newcol = str('CALCAVG'+label+col)\n",
    "        df[newcol] = df[col].apply(pd.to_numeric)\n",
    "        NewCALCAVGColumns.append(newcol)\n",
    "    CALCAVG = df[NewCALCAVGColumns]\n",
    "    rolling_avg = []\n",
    "    for i in range(1,maxweek+3):\n",
    "        Wlist = []\n",
    "        if i == 1:\n",
    "            pass\n",
    "        else:\n",
    "            for w in range(1,i):\n",
    "                try:\n",
    "                    group = Grouper(CALCAVG,'Week',w)\n",
    "                    Wlist.append(group)\n",
    "                except:\n",
    "                    pass\n",
    "            W = pd.concat(Wlist)\n",
    "        \n",
    "            Avg = W.groupby(index[0]).mean()\n",
    "            Avg['Week'] = i\n",
    "            rolling_avg.append(Avg)\n",
    "    CALCAVGFulldf = pd.concat(rolling_avg).reset_index()\n",
    "    return CALCAVGFulldf\n",
    "\n",
    "print(\"CALCAVG Loaded\")"
   ]
  },
  {
   "cell_type": "code",
   "execution_count": 13,
   "metadata": {},
   "outputs": [
    {
     "name": "stdout",
     "output_type": "stream",
     "text": [
      "(7501, 25)\n"
     ]
    },
    {
     "name": "stderr",
     "output_type": "stream",
     "text": [
      "C:\\Users\\KWRS\\Anaconda3\\lib\\site-packages\\ipykernel_launcher.py:76: SettingWithCopyWarning: \n",
      "A value is trying to be set on a copy of a slice from a DataFrame.\n",
      "Try using .loc[row_indexer,col_indexer] = value instead\n",
      "\n",
      "See the caveats in the documentation: https://pandas.pydata.org/pandas-docs/stable/user_guide/indexing.html#returning-a-view-versus-a-copy\n",
      "C:\\Users\\KWRS\\Anaconda3\\lib\\site-packages\\ipykernel_launcher.py:77: SettingWithCopyWarning: \n",
      "A value is trying to be set on a copy of a slice from a DataFrame.\n",
      "Try using .loc[row_indexer,col_indexer] = value instead\n",
      "\n",
      "See the caveats in the documentation: https://pandas.pydata.org/pandas-docs/stable/user_guide/indexing.html#returning-a-view-versus-a-copy\n"
     ]
    },
    {
     "name": "stdout",
     "output_type": "stream",
     "text": [
      "(480, 51)\n",
      "(480, 51)\n"
     ]
    }
   ],
   "source": [
    "index = ['Player','Week']\n",
    "remcols = []\n",
    "cols = [col for col in PerfPlayerData.columns if col not in index and col not in remcols]\n",
    "PPDOFFCALCAVGFull = CreateAverageColumns(LoadPerfPlayerData(),LoadPerfPlayerData(),index,cols,'PPDOFF')\n",
    "print(PPDOFFCALCAVGFull.shape)\n",
    "index = ['TmOFNS','Week']\n",
    "remcols = ['Opponent','TmDSTSCR','YearDSTSCR','DateDSTSCR','TimeDSTSCR','LTimeDSTSCR','nanDSTSCR','OppDSTSCR','WeekDSTSCR','G#DSTSCR',\n",
    "           'DayDSTSCR','ResultDSTSCR','TmALLSCR','YearALLSCR','DateALLSCR','TimeALLSCR','LTimeALLSCR','nanALLSCR','OppALLSCR',\n",
    "           'WeekALLSCR','G#ALLSCR','DayALLSCR','ResultALLSCR','TmDFNS','GOFNS','OTALLSCR','OTDSTSCR']\n",
    "cols = [col for col in PerfTeamData.columns if col not in index and col not in remcols]\n",
    "PTDOFFCALCAVGFull = CreateAverageColumns(CreatePerfTeamData(),CreatePerfTeamData(),index,cols,'PTDOFF')\n",
    "print(PTDOFFCALCAVGFull.shape)\n",
    "index = ['Opponent','Week']\n",
    "remcols = ['TmOFNS','TmDSTSCR','YearDSTSCR','DateDSTSCR','TimeDSTSCR','LTimeDSTSCR','nanDSTSCR','OppDSTSCR','WeekDSTSCR','G#DSTSCR',\n",
    "           'DayDSTSCR','ResultDSTSCR','TmALLSCR','YearALLSCR','DateALLSCR','TimeALLSCR','LTimeALLSCR','nanALLSCR','OppALLSCR',\n",
    "           'WeekALLSCR','G#ALLSCR','DayALLSCR','ResultALLSCR','TmDFNS','GOFNS','OTALLSCR','OTDSTSCR']\n",
    "cols = [col for col in PerfTeamData.columns if col not in index and col not in remcols]\n",
    "PTDOPPCALCAVGFull = CreateAverageColumns(CreatePerfTeamData(),CreatePerfTeamData(),index,cols,'PTDOPP')\n",
    "print(PTDOPPCALCAVGFull.shape)"
   ]
  },
  {
   "cell_type": "code",
   "execution_count": 14,
   "metadata": {},
   "outputs": [
    {
     "name": "stdout",
     "output_type": "stream",
     "text": [
      "(2655, 161)\n"
     ]
    },
    {
     "name": "stderr",
     "output_type": "stream",
     "text": [
      "C:\\Users\\KWRS\\Anaconda3\\lib\\site-packages\\ipykernel_launcher.py:30: SettingWithCopyWarning: \n",
      "A value is trying to be set on a copy of a slice from a DataFrame.\n",
      "Try using .loc[row_indexer,col_indexer] = value instead\n",
      "\n",
      "See the caveats in the documentation: https://pandas.pydata.org/pandas-docs/stable/user_guide/indexing.html#returning-a-view-versus-a-copy\n"
     ]
    },
    {
     "name": "stdout",
     "output_type": "stream",
     "text": [
      "(382, 113)\n"
     ]
    }
   ],
   "source": [
    "#MatchFiles\n",
    "PlayerMatch = LoadDF('data/2020/Match/PlayerMatch.csv')\n",
    "#print(PlayerMatch.head())\n",
    "TeamMatch = LoadDF('data/2020/Match/TeamMatch.csv')\n",
    "#print(TeamMatch.head())\n",
    "\n",
    "#OffenseTrain\n",
    "DKPoints = LoadDF('data/2020/Performance/DKPoints.csv')\n",
    "DKPoints['Week'] = DKPoints['Week'].astype(int)\n",
    "DKPoints['Name'] = DKPoints['Name'].replace(dict(zip(PlayerMatch.DKPointsName, PlayerMatch.UniquePlayer)))\n",
    "\n",
    "PerfPlayerData['Player'] = PerfPlayerData['Player'].replace(dict(zip(PlayerMatch.PerfName, PlayerMatch.UniquePlayer)))\n",
    "DKPoints = DKPoints.merge(PerfPlayerData, left_on=['Name','Week'], right_on=['Player','Week'],how='inner')\n",
    "PPDOFFCALCAVGFull['Player'] = PPDOFFCALCAVGFull['Player'].replace(dict(zip(PlayerMatch.PerfName, PlayerMatch.UniquePlayer)))\n",
    "DKPoints = DKPoints.merge(PPDOFFCALCAVGFull, left_on=['Name','Week'], right_on=['Player','Week'],how='inner')\n",
    "DKPoints['OffenseUID'] = DKPoints['Team'].replace(dict(zip(TeamMatch.DKAbbrev, TeamMatch.UID)))\n",
    "PTDOFFCALCAVGFull['OffenseUID'] = PTDOFFCALCAVGFull['TmOFNS'].replace(dict(zip(TeamMatch.PerfMatch, TeamMatch.UID)))\n",
    "DKPoints = DKPoints.merge(PTDOFFCALCAVGFull, left_on=['OffenseUID','Week'], right_on=['OffenseUID','Week'],how='inner')\n",
    "DKPoints['DefenseUID'] = DKPoints['Oppt'].replace(dict(zip(TeamMatch.DKAbbrev, TeamMatch.UID)))\n",
    "PTDOPPCALCAVGFull['DefenseUID'] = PTDOPPCALCAVGFull['Opponent'].replace(dict(zip(TeamMatch.PerfMatch, TeamMatch.UID)))\n",
    "DKPoints = DKPoints.merge(PTDOPPCALCAVGFull, left_on=['DefenseUID','Week'], right_on=['DefenseUID','Week'],how='inner')\n",
    "\n",
    "print(DKPoints.shape)\n",
    "DKPoints.to_csv(path+'\\\\PlayerTrain.csv')\n",
    "\n",
    "#DefenseTrain\n",
    "DKPoints = LoadDF('data/2020/Performance/DKPoints.csv')\n",
    "DKPoints['Week'] = DKPoints['Week'].astype(int)\n",
    "DKPointsDefense = Grouper(DKPoints,'Pos','Def')\n",
    "DKPointsDefense['OffenseUID'] = DKPointsDefense['Team'].replace(dict(zip(TeamMatch.DKAbbrev, TeamMatch.UID)))\n",
    "DKPointsDefense = DKPointsDefense.merge(PTDOFFCALCAVGFull, left_on=['OffenseUID','Week'], right_on=['OffenseUID','Week'],how='inner')\n",
    "DKPointsDefense['DefenseUID'] = DKPointsDefense['Oppt'].replace(dict(zip(TeamMatch.DKAbbrev, TeamMatch.UID)))\n",
    "DKPointsDefense = DKPointsDefense.merge(PTDOPPCALCAVGFull, left_on=['DefenseUID','Week'], right_on=['DefenseUID','Week'],how='inner')\n",
    "\n",
    "print(DKPointsDefense.shape)\n",
    "DKPointsDefense.to_csv(path+'\\\\DefenseTrain.csv')"
   ]
  },
  {
   "cell_type": "code",
   "execution_count": 15,
   "metadata": {},
   "outputs": [
    {
     "name": "stdout",
     "output_type": "stream",
     "text": [
      "        Name        ID    UID TeamAbbrev PerfMatch OpposingTeamAbbrev  \\\n",
      "0  Steelers   15260860  10001        PIT       PIT                PIT   \n",
      "1     Bills   15260861  10002        BUF       BUF                BUF   \n",
      "2    Eagles   15260862  10003        PHI       PHI                PHI   \n",
      "3     49ers   15260863  10004         SF       SFO                 SF   \n",
      "4     Bears   15260864  10005        CHI       CHI                CHI   \n",
      "\n",
      "          DKTeam DKAbbrev  \n",
      "0     Pittsburgh      pit  \n",
      "1        Buffalo      buf  \n",
      "2   Philadelphia      phi  \n",
      "3  San Francisco      sfo  \n",
      "4        Chicago      chi  \n"
     ]
    }
   ],
   "source": [
    "print(TeamMatch.head())"
   ]
  },
  {
   "cell_type": "code",
   "execution_count": 16,
   "metadata": {},
   "outputs": [
    {
     "name": "stdout",
     "output_type": "stream",
     "text": [
      "(291, 143)\n",
      "(32, 119)\n"
     ]
    }
   ],
   "source": [
    "def CreateProjectionMDF(file):\n",
    "    PlayerMatch = LoadDF('data/2020/Match/PlayerMatch.csv')\n",
    "    TeamMatch = LoadDF('data/2020/Match/TeamMatch.csv')\n",
    "\n",
    "    w = file.split(\"/\")[-1].split(\".\")[0].replace(\"Week\",\"\")\n",
    "    dk = pd.read_csv(file)\n",
    "    dk['HomeTeam'] = dk['Game Info'].str.split(' ').str[0].str.split('@').str[1]\n",
    "    dk['AwayTeam'] = dk['Game Info'].str.split(' ').str[0].str.split('@').str[0]\n",
    "    dk.loc[(dk['HomeTeam'] == dk['TeamAbbrev']), 'OpposingTeam'] = dk['AwayTeam']\n",
    "    dk.loc[(dk['AwayTeam'] == dk['TeamAbbrev']), 'OpposingTeam'] = dk['HomeTeam']\n",
    "    dk['OpponentUID'] = dk['OpposingTeam'].replace(dict(zip(TeamMatch.TeamAbbrev, TeamMatch.UID)))\n",
    "    dk['TeamUID'] = dk['TeamAbbrev'].replace(dict(zip(TeamMatch.TeamAbbrev, TeamMatch.UID)))\n",
    "    dk['OffenseTeam'] = dk['TeamAbbrev'].replace(dict(zip(TeamMatch.TeamAbbrev, TeamMatch.ID)))\n",
    "    dk['Week'] = int(w)\n",
    "    dk['UniquePlayer'] = dk['Name'] + dk['Position'] + dk['OffenseTeam']\n",
    "    return dk\n",
    "\n",
    "projfile = str('data/2020/draftkings/Week'+str(currentweek)+'.csv')\n",
    "ProjMDF = CreateProjectionMDF(projfile)\n",
    "ProjDefenseMDF = Grouper(ProjMDF,'Position','DST')\n",
    "ProjMDF = ProjMDF.merge(PTDOFFCALCAVGFull, left_on=['TeamUID','Week'], right_on=['OffenseUID','Week'],how='inner')\n",
    "ProjMDF = ProjMDF.merge(PTDOPPCALCAVGFull, left_on=['OpponentUID','Week'], right_on=['DefenseUID','Week'],how='inner')\n",
    "ProjMDF = ProjMDF.merge(PPDOFFCALCAVGFull, left_on=['UniquePlayer','Week'], right_on=['Player','Week'],how='inner')\n",
    "print(ProjMDF.shape)\n",
    "ProjMDF.to_csv(path+'\\\\PlayerProject.csv')\n",
    "\n",
    "\n",
    "ProjDefenseMDF = ProjDefenseMDF.merge(PTDOPPCALCAVGFull, left_on=['TeamUID','Week'], right_on=['DefenseUID','Week'],how='inner')\n",
    "ProjDefenseMDF = ProjDefenseMDF.merge(PTDOFFCALCAVGFull, left_on=['OpponentUID','Week'], right_on=['OffenseUID','Week'],how='inner')\n",
    "print(ProjDefenseMDF.shape)\n",
    "ProjDefenseMDF.to_csv(path+'\\\\DefenseProject.csv')\n",
    "\n",
    "print(\"Data Preparation Complete\")"
   ]
  },
  {
   "cell_type": "markdown",
   "metadata": {},
   "source": [
    "### DraftKings Data"
   ]
  },
  {
   "cell_type": "code",
   "execution_count": null,
   "metadata": {},
   "outputs": [],
   "source": []
  }
 ],
 "metadata": {
  "kernelspec": {
   "display_name": "Python 3",
   "language": "python",
   "name": "python3"
  },
  "language_info": {
   "codemirror_mode": {
    "name": "ipython",
    "version": 3
   },
   "file_extension": ".py",
   "mimetype": "text/x-python",
   "name": "python",
   "nbconvert_exporter": "python",
   "pygments_lexer": "ipython3",
   "version": "3.7.6"
  }
 },
 "nbformat": 4,
 "nbformat_minor": 4
}
